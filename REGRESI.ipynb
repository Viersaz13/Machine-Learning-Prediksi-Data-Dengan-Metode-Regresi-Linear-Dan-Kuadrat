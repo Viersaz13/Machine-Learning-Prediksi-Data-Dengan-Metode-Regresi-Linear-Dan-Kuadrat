{
  "nbformat": 4,
  "nbformat_minor": 0,
  "metadata": {
    "colab": {
      "provenance": []
    },
    "kernelspec": {
      "name": "python3",
      "display_name": "Python 3"
    },
    "language_info": {
      "name": "python"
    }
  },
  "cells": [
    {
      "cell_type": "code",
      "execution_count": 4,
      "metadata": {
        "colab": {
          "base_uri": "https://localhost:8080/"
        },
        "id": "pf4CpHroiddK",
        "outputId": "e5d800f1-2420-422b-beda-228600a1cc9d"
      },
      "outputs": [
        {
          "output_type": "stream",
          "name": "stdout",
          "text": [
            "Prediksi\n",
            "input =  [[10]]\n",
            "Output = [20.]\n"
          ]
        }
      ],
      "source": [
        "# REGRESI LINEAR\n",
        "\n",
        "import numpy as np                                    #untuk simbol-simbol\n",
        "from sklearn.linear_model import LinearRegression     #memanggil library regresi linear\n",
        "\n",
        "#database\n",
        "#x = Data, y = target\n",
        "x = [[0],[1],[2],[3],[4],[5],[6],[7],[8],[9]] \n",
        "y = [0, 2, 4, 6, 8, 10, 12, 14, 16, 18]               #x dikali 2\n",
        "\n",
        "regr = LinearRegression().fit(x,y)                    #untuk fitting grafik\n",
        "regr.score(x, y)                                      #untuk menentukan grafik\n",
        "\n",
        "#data uji\n",
        "predict = np.array([[10]])                            #nilai yang di prediksi\n",
        "\n",
        "#menampilkan data prediksi (menampilkan karakter)\n",
        "print (\"Prediksi\") \n",
        "print (\"input = \", predict)\n",
        "print (\"Output =\", regr.predict(predict))\n",
        "\n"
      ]
    },
    {
      "cell_type": "code",
      "source": [
        "# REGRESI POLINOMIAL\n",
        "\n",
        "from sklearn.preprocessing import PolynomialFeatures\n",
        "from sklearn import linear_model\n",
        "import numpy as np                                        #untuk simbol-simbol\n",
        "\n",
        "\n",
        "#database \n",
        "#x = data, y = Target \n",
        "x = [[0],[1],[2],[3],[4],[5],[6],[7],[8],[9]] \n",
        "y = [0, 1, 4, 9, 16, 25, 36, 49, 64, 81]          #x dipangkat 2\n",
        "\n",
        "#data uji \n",
        "predict = np.array([[40]])                        #nilai yang di prediksi \n",
        "poly = PolynomialFeatures(degree=2)               #ordo yang digunakan\n",
        "x_=poly.fit_transform(x)                          #fitting prediksi sumbu\n",
        "predict_ = poly.fit_transform(predict)            #fitting jenis regresi\n",
        "regr = linear_model.LinearRegression()            #meregresi\n",
        "regr.fit(x_,y)                                    #menentukan grafik\n",
        "\n",
        "#menampilkan data prediksi \n",
        "print (\"Prediksi\")\n",
        "print (\"input = \", predict)\n",
        "print (\"Output =\", regr.predict(predict_))"
      ],
      "metadata": {
        "colab": {
          "base_uri": "https://localhost:8080/"
        },
        "id": "R9aQSpEgknEE",
        "outputId": "a077e035-6c1b-4d5a-c4e2-2a83bafb8ff1"
      },
      "execution_count": 5,
      "outputs": [
        {
          "output_type": "stream",
          "name": "stdout",
          "text": [
            "Prediksi\n",
            "input =  [[40]]\n",
            "Output = [1600.]\n"
          ]
        }
      ]
    }
  ]
}